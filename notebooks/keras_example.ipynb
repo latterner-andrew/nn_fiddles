{
 "cells": [
  {
   "cell_type": "markdown",
   "metadata": {},
   "source": [
    "## Simple text classification example with `keras`\n",
    "\n",
    "1. load, split, and preprocess data \n",
    "2. define network structure \n",
    "3. train classifier \n",
    "4. generate predictions on holdout set \n",
    "5. evaluate performance"
   ]
  },
  {
   "cell_type": "markdown",
   "metadata": {},
   "source": [
    "### 1. Load, split, and preprocess data\n",
    "<hr>"
   ]
  },
  {
   "cell_type": "code",
   "execution_count": 1,
   "metadata": {},
   "outputs": [
    {
     "name": "stderr",
     "output_type": "stream",
     "text": [
      "C:\\Users\\leffel-timothy\\anacoco\\lib\\site-packages\\h5py\\__init__.py:36: FutureWarning: Conversion of the second argument of issubdtype from `float` to `np.floating` is deprecated. In future, it will be treated as `np.float64 == np.dtype(float).type`.\n",
      "  from ._conv import register_converters as _register_converters\n",
      "Using TensorFlow backend.\n"
     ]
    }
   ],
   "source": [
    "from keras.datasets import imdb\n",
    "\n",
    "# restrict vocab size to 10k words (not necessary but speeds up dev)\n",
    "vocab_n = 10000\n",
    "\n",
    "(train_X, train_y), (test_X, test_y) = imdb.load_data(num_words=vocab_n)"
   ]
  },
  {
   "cell_type": "code",
   "execution_count": 2,
   "metadata": {},
   "outputs": [
    {
     "name": "stdout",
     "output_type": "stream",
     "text": [
      "train input shape: (25000,)\n",
      "train labels shape: (25000,)\n",
      "test input shape: (25000,)\n",
      "test labels shape: (25000,)\n"
     ]
    }
   ],
   "source": [
    "# check shape of data \n",
    "print('train input shape:', train_X.shape)\n",
    "print('train labels shape:', train_y.shape)\n",
    "\n",
    "print('test input shape:', test_X.shape)\n",
    "print('test labels shape:', test_y.shape)"
   ]
  },
  {
   "cell_type": "code",
   "execution_count": 3,
   "metadata": {},
   "outputs": [],
   "source": [
    "import numpy as np\n",
    "\n",
    "# function to create binary DTM from int-encoded docs \n",
    "def vectorize_sequences(sequences, dim):\n",
    "  results = np.zeros((len(sequences), dim))\n",
    "  for i, sequence in enumerate(sequences):\n",
    "    results[i, sequence] = 1.\n",
    "  return results\n",
    "\n",
    "\n",
    "# vectorize the int-encoded documents \n",
    "train_X = vectorize_sequences(train_X, dim=vocab_n)\n",
    "test_X = vectorize_sequences(test_X, dim=vocab_n)\n",
    "\n",
    "# vectorize the labels too\n",
    "train_y = np.asarray(train_y).astype('float32')\n",
    "train_y = np.asarray(test_y).astype('float32')"
   ]
  },
  {
   "cell_type": "markdown",
   "metadata": {},
   "source": [
    "### 2. Define network structure, compile network\n",
    "<hr>"
   ]
  },
  {
   "cell_type": "code",
   "execution_count": 4,
   "metadata": {},
   "outputs": [],
   "source": [
    "from keras import models\n",
    "from keras import layers\n",
    "\n",
    "model = models.Sequential()\n",
    "model.add(layers.Dense(16, activation='relu', input_shape=(vocab_n, )))\n",
    "model.add(layers.Dense(16, activation='relu'))\n",
    "model.add(layers.Dense(1, activation='sigmoid'))"
   ]
  },
  {
   "cell_type": "code",
   "execution_count": 5,
   "metadata": {},
   "outputs": [],
   "source": [
    "optimizer = 'rmsprop'\n",
    "loss = 'binary_crossentropy'\n",
    "metrics = ['accuracy']\n",
    "\n",
    "model.compile(optimizer=optimizer, loss=loss, metrics=metrics)"
   ]
  },
  {
   "cell_type": "markdown",
   "metadata": {},
   "source": [
    "### 3. Train classifier\n",
    "<hr>"
   ]
  },
  {
   "cell_type": "code",
   "execution_count": 6,
   "metadata": {},
   "outputs": [],
   "source": [
    "valset_size = 10000\n",
    "\n",
    "valset_X = train_X[:valset_size]\n",
    "partial_train_X = train_X[valset_size:]\n",
    "\n",
    "valset_y = train_y[:valset_size]\n",
    "partial_train_y = train_y[valset_size:]"
   ]
  },
  {
   "cell_type": "code",
   "execution_count": 7,
   "metadata": {},
   "outputs": [
    {
     "name": "stdout",
     "output_type": "stream",
     "text": [
      "Train on 15000 samples, validate on 10000 samples\n",
      "Epoch 1/10\n",
      "15000/15000 [==============================] - 3s 224us/step - loss: 0.6935 - acc: 0.4951 - val_loss: 0.6931 - val_acc: 0.5048\n",
      "Epoch 2/10\n",
      "15000/15000 [==============================] - 3s 207us/step - loss: 0.6847 - acc: 0.5732 - val_loss: 0.6945 - val_acc: 0.5058\n",
      "Epoch 3/10\n",
      "15000/15000 [==============================] - 3s 187us/step - loss: 0.6470 - acc: 0.6468 - val_loss: 0.7178 - val_acc: 0.4986\n",
      "Epoch 4/10\n",
      "15000/15000 [==============================] - 3s 186us/step - loss: 0.5893 - acc: 0.7093 - val_loss: 0.7336 - val_acc: 0.4959\n",
      "Epoch 5/10\n",
      "15000/15000 [==============================] - 3s 190us/step - loss: 0.5362 - acc: 0.7523 - val_loss: 0.7825 - val_acc: 0.4972\n",
      "Epoch 6/10\n",
      "15000/15000 [==============================] - 3s 193us/step - loss: 0.4884 - acc: 0.7879 - val_loss: 0.8199 - val_acc: 0.4944\n",
      "Epoch 7/10\n",
      "15000/15000 [==============================] - 3s 192us/step - loss: 0.4329 - acc: 0.8273 - val_loss: 0.8434 - val_acc: 0.4966\n",
      "Epoch 8/10\n",
      "15000/15000 [==============================] - 3s 204us/step - loss: 0.3974 - acc: 0.8423 - val_loss: 0.8717 - val_acc: 0.4967\n",
      "Epoch 9/10\n",
      "15000/15000 [==============================] - 3s 191us/step - loss: 0.3465 - acc: 0.8751 - val_loss: 0.9257 - val_acc: 0.4964\n",
      "Epoch 10/10\n",
      "15000/15000 [==============================] - 3s 196us/step - loss: 0.3097 - acc: 0.8905 - val_loss: 1.0024 - val_acc: 0.4982\n"
     ]
    }
   ],
   "source": [
    "# more epochs leads to higher train accuracy \n",
    "epochs = 10\n",
    "batch_size = 512\n",
    "\n",
    "# note that `history` object has several useful methods \n",
    "history = model.fit(partial_train_X, partial_train_y,\n",
    "                    epochs=epochs, batch_size=batch_size,\n",
    "                    validation_data=(valset_X, valset_y))"
   ]
  },
  {
   "cell_type": "markdown",
   "metadata": {},
   "source": [
    "### 4. Generate predictions \n",
    "<hr>"
   ]
  },
  {
   "cell_type": "code",
   "execution_count": 8,
   "metadata": {},
   "outputs": [],
   "source": [
    "# function to convert a probability into a binary prediction \n",
    "def prob_to_binary(prob, threshold=.5, ret_type=bool):\n",
    "  assert 0 <= prob <= 1\n",
    "  assert 0 <= threshold <= 1\n",
    "  return ret_type(prob > threshold)\n",
    "\n",
    "\n",
    "# generate probabilistic predictions, convert them to binary \n",
    "test_probs = model.predict(test_X)\n",
    "test_preds = [prob_to_binary(prob) for prob in test_probs]"
   ]
  },
  {
   "cell_type": "markdown",
   "metadata": {},
   "source": [
    "### 5. Evaluate model performance\n",
    "<hr>"
   ]
  },
  {
   "cell_type": "code",
   "execution_count": 9,
   "metadata": {},
   "outputs": [
    {
     "data": {
      "text/plain": [
       "array([[8287, 4213],\n",
       "       [8228, 4272]], dtype=int64)"
      ]
     },
     "execution_count": 9,
     "metadata": {},
     "output_type": "execute_result"
    }
   ],
   "source": [
    "from sklearn.metrics import confusion_matrix\n",
    "\n",
    "# show confusion matrix \n",
    "confusion_matrix(test_y, test_preds)"
   ]
  },
  {
   "cell_type": "code",
   "execution_count": 10,
   "metadata": {},
   "outputs": [
    {
     "name": "stdout",
     "output_type": "stream",
     "text": [
      "f1_score on test: 0.407\n",
      "precision_score on test: 0.503\n",
      "recall_score on test: 0.342\n",
      "accuracy_score on test: 0.502\n"
     ]
    }
   ],
   "source": [
    "from sklearn.metrics import accuracy_score, f1_score\n",
    "from sklearn.metrics import precision_score, recall_score\n",
    "\n",
    "\n",
    "eval_metrics = [f1_score, precision_score, recall_score, accuracy_score]\n",
    "\n",
    "# print various metrics\n",
    "for func in eval_metrics:\n",
    "  print(f'{func.__name__} on test: {round(func(test_y, test_preds), 3)}')"
   ]
  },
  {
   "cell_type": "code",
   "execution_count": 11,
   "metadata": {},
   "outputs": [],
   "source": [
    "import matplotlib.pyplot as plt\n",
    "\n",
    "\n",
    "loss_values = history.history['loss']\n",
    "val_loss_values = history.history['val_loss']\n",
    "\n",
    "acc = history.history['acc']\n",
    "val_acc = history.history['val_acc']\n",
    "\n",
    "epochs = range(1, len(acc) + 1)"
   ]
  },
  {
   "cell_type": "code",
   "execution_count": 12,
   "metadata": {},
   "outputs": [
    {
     "data": {
      "image/png": "[encoded data removed]",
      "text/plain": [
       "<matplotlib.figure.Figure at 0x145d6358>"
      ]
     },
     "metadata": {},
     "output_type": "display_data"
    }
   ],
   "source": [
    "# plot loss curves for train and validation sets during training \n",
    "plt.plot(epochs, loss_values, 'bo', label='Training loss')\n",
    "plt.plot(epochs, val_loss_values, 'b', label='Validation loss')\n",
    "plt.title('Training and validation loss')\n",
    "plt.xlabel('Epochs')\n",
    "plt.ylabel('Loss')\n",
    "plt.legend()\n",
    "plt.show()"
   ]
  },
  {
   "cell_type": "code",
   "execution_count": 13,
   "metadata": {},
   "outputs": [
    {
     "data": {
      "image/png": "[encoded data removed]",
      "text/plain": [
       "<matplotlib.figure.Figure at 0x170adac8>"
      ]
     },
     "metadata": {},
     "output_type": "display_data"
    }
   ],
   "source": [
    "# plot accuracy curves for train and validation sets during training \n",
    "plt.plot(epochs, acc, 'bo', label='Training accuracy')\n",
    "plt.plot(epochs, val_acc, 'b', label='Validation accuracy')\n",
    "plt.title('Training and validation accuracy')\n",
    "plt.xlabel('Epochs')\n",
    "plt.ylabel('Accuracy')\n",
    "plt.legend()\n",
    "plt.show()"
   ]
  }
 ],
 "metadata": {
  "kernelspec": {
   "display_name": "Python 3",
   "language": "python",
   "name": "python3"
  },
  "language_info": {
   "codemirror_mode": {
    "name": "ipython",
    "version": 3
   },
   "file_extension": ".py",
   "mimetype": "text/x-python",
   "name": "python",
   "nbconvert_exporter": "python",
   "pygments_lexer": "ipython3",
   "version": "3.6.6"
  }
 },
 "nbformat": 4,
 "nbformat_minor": 2
}
