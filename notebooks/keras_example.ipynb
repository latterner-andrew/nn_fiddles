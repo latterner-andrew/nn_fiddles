{
 "cells": [
  {
   "cell_type": "markdown",
   "metadata": {},
   "source": [
    "## Simple text classification example with `keras`\n",
    "<hr>\n",
    "\n",
    "1. load, split, and preprocess data \n",
    "2. define network structure \n",
    "3. train classifier \n",
    "4. generate predictions on holdout set \n",
    "5. evaluate performance\n",
    "\n",
    "*Note: Adapted from Sec 3.4 of *DLwP* (Chollet 2018)*\n",
    "\n",
    "**`TODO`**:\n",
    "- replace `imdb.load_data()` with text --> dtm workflow\n",
    "- make note of relevant hypers \n",
    "- write viz wrappers for cleaner plotting"
   ]
  },
  {
   "cell_type": "markdown",
   "metadata": {},
   "source": [
    "### 1. Load, split, and preprocess data\n",
    "<hr>"
   ]
  },
  {
   "cell_type": "code",
   "execution_count": 1,
   "metadata": {},
   "outputs": [
    {
     "name": "stderr",
     "output_type": "stream",
     "text": [
      "Using TensorFlow backend.\n"
     ]
    }
   ],
   "source": [
    "from keras.datasets import imdb\n",
    "\n",
    "# restrict vocab size to 10k words (not necessary but speeds up dev)\n",
    "vocab_n = 10000\n",
    "\n",
    "# movie reviews w binary sentiment labels ship w keras \n",
    "# NOTE: they come tokenized, w words replaced by int indices\n",
    "(train_X, train_y), (test_X, test_y) = imdb.load_data(num_words=vocab_n)"
   ]
  },
  {
   "cell_type": "code",
   "execution_count": 2,
   "metadata": {},
   "outputs": [
    {
     "name": "stdout",
     "output_type": "stream",
     "text": [
      "train input shape: (25000,)\n",
      "train labels shape: (25000,)\n",
      "test input shape: (25000,)\n",
      "test labels shape: (25000,)\n"
     ]
    }
   ],
   "source": [
    "# check shape of data \n",
    "print('train input shape:', train_X.shape)\n",
    "print('train labels shape:', train_y.shape)\n",
    "\n",
    "print('test input shape:', test_X.shape)\n",
    "print('test labels shape:', test_y.shape)"
   ]
  },
  {
   "cell_type": "code",
   "execution_count": 3,
   "metadata": {},
   "outputs": [],
   "source": [
    "import numpy as np\n",
    "\n",
    "# function to construct binary DTM from int-encoded docs \n",
    "# NOTE: setting `vocab_n` above simplifies this step\n",
    "# more typical workflow uses `keras.preprocessing.text.Tokenizer` class \n",
    "def vectorize_sequences(sequences, dim):\n",
    "  results = np.zeros((len(sequences), dim))\n",
    "  for i, sequence in enumerate(sequences):\n",
    "    results[i, sequence] = 1.\n",
    "  return results\n",
    "\n",
    "\n",
    "# vectorize int-sequence encoded documents (cast to binary DTM)\n",
    "train_X = vectorize_sequences(train_X, dim=vocab_n)\n",
    "test_X = vectorize_sequences(test_X, dim=vocab_n)\n",
    "\n",
    "# preprocess the labels too (convert to np float arrays)\n",
    "train_y = np.asarray(train_y).astype('float32')\n",
    "test_y = np.asarray(test_y).astype('float32')"
   ]
  },
  {
   "cell_type": "markdown",
   "metadata": {},
   "source": [
    "### 2. Define network structure, compile network\n",
    "<hr>"
   ]
  },
  {
   "cell_type": "code",
   "execution_count": 4,
   "metadata": {},
   "outputs": [],
   "source": [
    "from keras import models\n",
    "from keras import layers\n",
    "\n",
    "# instantiate sequential model \n",
    "model = models.Sequential()\n",
    "\n",
    "# add two 16-unit densely connected hidden layers\n",
    "model.add(layers.Dense(16, activation='relu', input_shape=(vocab_n, )))\n",
    "model.add(layers.Dense(16, activation='relu'))\n",
    "\n",
    "# output layer sigmoid, produces scalar probability for each input\n",
    "model.add(layers.Dense(1, activation='sigmoid'))"
   ]
  },
  {
   "cell_type": "code",
   "execution_count": 5,
   "metadata": {},
   "outputs": [],
   "source": [
    "# vanilla choices for binary clf, see DLwP S3.4.3 for discussion\n",
    "optimizer = 'rmsprop'\n",
    "loss = 'binary_crossentropy'\n",
    "metrics = ['accuracy']\n",
    "\n",
    "model.compile(optimizer=optimizer, loss=loss, metrics=metrics)"
   ]
  },
  {
   "cell_type": "markdown",
   "metadata": {},
   "source": [
    "### 3. Train classifier\n",
    "<hr>"
   ]
  },
  {
   "cell_type": "code",
   "execution_count": 6,
   "metadata": {},
   "outputs": [],
   "source": [
    "# use part of train data for continuous validation during train\n",
    "valset_size = 10000\n",
    "\n",
    "valset_X = train_X[:valset_size]\n",
    "partial_train_X = train_X[valset_size:]\n",
    "\n",
    "valset_y = train_y[:valset_size]\n",
    "partial_train_y = train_y[valset_size:]"
   ]
  },
  {
   "cell_type": "code",
   "execution_count": 7,
   "metadata": {},
   "outputs": [
    {
     "name": "stdout",
     "output_type": "stream",
     "text": [
      "Train on 15000 samples, validate on 10000 samples\n",
      "Epoch 1/10\n",
      "15000/15000 [==============================] - 6s 413us/step - loss: 0.4955 - acc: 0.7959 - val_loss: 0.3704 - val_acc: 0.8719\n",
      "Epoch 2/10\n",
      "15000/15000 [==============================] - 6s 393us/step - loss: 0.2948 - acc: 0.9047 - val_loss: 0.2986 - val_acc: 0.8905\n",
      "Epoch 3/10\n",
      "15000/15000 [==============================] - 5s 353us/step - loss: 0.2154 - acc: 0.9283 - val_loss: 0.3089 - val_acc: 0.8715\n",
      "Epoch 4/10\n",
      "15000/15000 [==============================] - 5s 348us/step - loss: 0.1737 - acc: 0.9435 - val_loss: 0.2829 - val_acc: 0.8850\n",
      "Epoch 5/10\n",
      "15000/15000 [==============================] - 6s 379us/step - loss: 0.1410 - acc: 0.9543 - val_loss: 0.2866 - val_acc: 0.8853\n",
      "Epoch 6/10\n",
      "15000/15000 [==============================] - 7s 444us/step - loss: 0.1140 - acc: 0.9655 - val_loss: 0.3084 - val_acc: 0.8814\n",
      "Epoch 7/10\n",
      "15000/15000 [==============================] - 7s 472us/step - loss: 0.0967 - acc: 0.9712 - val_loss: 0.3152 - val_acc: 0.8842\n",
      "Epoch 8/10\n",
      "15000/15000 [==============================] - 8s 507us/step - loss: 0.0802 - acc: 0.9761 - val_loss: 0.3863 - val_acc: 0.8660\n",
      "Epoch 9/10\n",
      "15000/15000 [==============================] - 7s 483us/step - loss: 0.0657 - acc: 0.9821 - val_loss: 0.3656 - val_acc: 0.8780\n",
      "Epoch 10/10\n",
      "15000/15000 [==============================] - 8s 555us/step - loss: 0.0553 - acc: 0.9854 - val_loss: 0.3869 - val_acc: 0.8787\n"
     ]
    }
   ],
   "source": [
    "# more epochs usually leads to higher train accuracy \n",
    "# (but also makes overfitting much more likely)\n",
    "epochs = 10\n",
    "\n",
    "# flow thru nn in `batch_size` mini-batches during train \n",
    "batch_size = 512\n",
    "\n",
    "# note that `history` object has several useful methods \n",
    "history = model.fit(partial_train_X, partial_train_y,\n",
    "                    epochs=epochs, batch_size=batch_size,\n",
    "                    validation_data=(valset_X, valset_y))"
   ]
  },
  {
   "cell_type": "markdown",
   "metadata": {},
   "source": [
    "### 4. Generate predictions \n",
    "<hr>"
   ]
  },
  {
   "cell_type": "code",
   "execution_count": 8,
   "metadata": {},
   "outputs": [],
   "source": [
    "# function to convert a probability in [0, 1] into a binary value \n",
    "def prob_to_binary(prob, threshold=.5, ret_type=bool):\n",
    "  assert 0 <= prob <= 1\n",
    "  assert 0 <= threshold <= 1\n",
    "  return ret_type(prob > threshold)\n",
    "\n",
    "\n",
    "# generate probabilistic predictions, convert them to binary \n",
    "test_probs = model.predict(test_X)\n",
    "test_preds = [prob_to_binary(prob) for prob in test_probs]"
   ]
  },
  {
   "cell_type": "markdown",
   "metadata": {},
   "source": [
    "### 5. Evaluate model performance\n",
    "<hr>"
   ]
  },
  {
   "cell_type": "code",
   "execution_count": 9,
   "metadata": {},
   "outputs": [
    {
     "data": {
      "text/plain": [
       "array([[10968,  1532],\n",
       "       [ 1872, 10628]])"
      ]
     },
     "execution_count": 9,
     "metadata": {},
     "output_type": "execute_result"
    }
   ],
   "source": [
    "from sklearn.metrics import confusion_matrix\n",
    "\n",
    "confusion_matrix(test_y, test_preds)"
   ]
  },
  {
   "cell_type": "code",
   "execution_count": 10,
   "metadata": {},
   "outputs": [
    {
     "name": "stdout",
     "output_type": "stream",
     "text": [
      "f1_score on test: 0.862\n",
      "precision_score on test: 0.874\n",
      "recall_score on test: 0.85\n",
      "accuracy_score on test: 0.864\n"
     ]
    }
   ],
   "source": [
    "from sklearn.metrics import accuracy_score, f1_score\n",
    "from sklearn.metrics import precision_score, recall_score\n",
    "\n",
    "\n",
    "eval_metrics = [f1_score, precision_score, recall_score, accuracy_score]\n",
    "\n",
    "for func in eval_metrics:\n",
    "  print(f'{func.__name__} on test: {round(func(test_y, test_preds), 3)}')"
   ]
  },
  {
   "cell_type": "code",
   "execution_count": 11,
   "metadata": {},
   "outputs": [],
   "source": [
    "### TODO: SWAP OUT MESS IN THIS + NEXT CHUNK W IMPORT + CALL TO:\n",
    "###     >> plotting_util.plot_keras_loss_accuracy_curves(history)\n",
    "\n",
    "# want to inspect loss and accuracy curves during train \n",
    "losses = history.history['loss']\n",
    "val_losses = history.history['val_loss']\n",
    "\n",
    "accs = history.history['acc']\n",
    "val_accs = history.history['val_acc']\n",
    "\n",
    "epoch_idxs = range(1, len(accs) + 1)"
   ]
  },
  {
   "cell_type": "code",
   "execution_count": 12,
   "metadata": {},
   "outputs": [
    {
     "data": {
      "image/png": "[encoded data removed]",
      "text/plain": [
       "<Figure size 432x288 with 2 Axes>"
      ]
     },
     "metadata": {},
     "output_type": "display_data"
    }
   ],
   "source": [
    "%matplotlib inline\n",
    "import matplotlib.pyplot as plt\n",
    "\n",
    "# plot loss curves for train and validation sets during training \n",
    "plt.subplot(2, 1, 1)\n",
    "plt.plot(epoch_idxs, losses, 'bo', label='train')\n",
    "plt.plot(epoch_idxs, val_losses, 'b', label='validation')\n",
    "plt.title('Loss during model training')\n",
    "plt.ylabel('loss')\n",
    "plt.legend(loc=3)\n",
    "\n",
    "# plot accuracy curves for train and validation sets during training \n",
    "plt.subplot(2, 1, 2)\n",
    "plt.plot(epoch_idxs, accs, 'bo', label='train')\n",
    "plt.plot(epoch_idxs, val_accs, 'b', label='validation')\n",
    "plt.title('Accuracy during model training')\n",
    "plt.xlabel('epoch number'); plt.ylabel('accuracy\\n(prop correct)')\n",
    "plt.legend(loc=4)\n",
    "\n",
    "# check `plt.rcParams.keys()` to tune graphical params \n",
    "plt.rcParams['figure.dpi'] = 80\n",
    "plt.tight_layout()\n",
    "plt.show()"
   ]
  }
 ],
 "metadata": {
  "kernelspec": {
   "display_name": "Python [default]",
   "language": "python",
   "name": "python3"
  },
  "language_info": {
   "codemirror_mode": {
    "name": "ipython",
    "version": 3
   },
   "file_extension": ".py",
   "mimetype": "text/x-python",
   "name": "python",
   "nbconvert_exporter": "python",
   "pygments_lexer": "ipython3",
   "version": "3.6.4"
  }
 },
 "nbformat": 4,
 "nbformat_minor": 2
}
