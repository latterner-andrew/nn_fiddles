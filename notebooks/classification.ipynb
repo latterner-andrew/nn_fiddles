{
 "cells": [
  {
   "cell_type": "markdown",
   "metadata": {},
   "source": [
    "#### `TODO`\n",
    "- simplest possible end-to-end example with `sklearn` (use mnb or logreg or svc)\n",
    "- simplest possible end-to-end example with `keras` (mlp w 1-2 hiddens)\n",
    "- shd use grid search in this ex??\n",
    "- shd use crossval in this ex??\n",
    "- illustrate param tuning here or elsewhere?? \n",
    "- shd pickle mobjs (or show how to)??"
   ]
  },
  {
   "cell_type": "markdown",
   "metadata": {},
   "source": [
    "## Text classification with `keras` and `sklearn`\n",
    "<hr>\n",
    "\n",
    "1. basic `sklearn` workflow\n",
    "  - i. load and split data into train and test subsets \n",
    "  - ii. extract vocab from train data, establish preprocessing steps  \n",
    "  - iii. preprocess and vectorize train and test texts (corpus --> DTM)\n",
    "  - iv. set hyper-params and train classifier on train data \n",
    "  - v. generate predictions over the test set \n",
    "  - vi. compare test predictions to test labels, assess performance\n",
    "\n",
    "\n",
    "2. basic `keras` workflow\n",
    "  - i. load and split data into train and test subsets \n",
    "  - ii. extract vocab from train data, establish preprocessing steps \n",
    "  - iii. preprocess and vectorize train and test texts (corpus --> DTM)\n",
    "  - iv. establish network structure, build network, and compile\n",
    "  - v. chip off small validation set from train data \n",
    "  - vi. set hyper-params and train network in mini-batches\n",
    "  - vii. generate predictions over the test set \n",
    "  - viii. compare test predictions to test labels, assess performance"
   ]
  },
  {
   "cell_type": "markdown",
   "metadata": {},
   "source": [
    "#### 1. Load and preprocess data\n",
    "<hr>"
   ]
  },
  {
   "cell_type": "code",
   "execution_count": null,
   "metadata": {},
   "outputs": [],
   "source": [
    "# [TODO]"
   ]
  },
  {
   "cell_type": "markdown",
   "metadata": {},
   "source": [
    "#### 2. Define classification network\n",
    "<hr>"
   ]
  },
  {
   "cell_type": "code",
   "execution_count": null,
   "metadata": {},
   "outputs": [],
   "source": [
    "# [TODO]"
   ]
  },
  {
   "cell_type": "markdown",
   "metadata": {},
   "source": [
    "#### 3. Train and evaluate the model (out-of-box)\n",
    "<hr>"
   ]
  },
  {
   "cell_type": "code",
   "execution_count": null,
   "metadata": {},
   "outputs": [],
   "source": [
    "# [TODO]"
   ]
  },
  {
   "cell_type": "markdown",
   "metadata": {},
   "source": [
    "#### 4. Tune hyper-parameters\n",
    "<hr>"
   ]
  },
  {
   "cell_type": "code",
   "execution_count": null,
   "metadata": {},
   "outputs": [],
   "source": [
    "# [TODO]"
   ]
  },
  {
   "cell_type": "markdown",
   "metadata": {},
   "source": [
    "#### 5. Retrain with optimized hyper-parameters\n",
    "<hr>"
   ]
  },
  {
   "cell_type": "code",
   "execution_count": null,
   "metadata": {},
   "outputs": [],
   "source": [
    "# [TODO]"
   ]
  },
  {
   "cell_type": "markdown",
   "metadata": {},
   "source": [
    "#### 6. Generate final predictions, save model\n",
    "<hr>"
   ]
  },
  {
   "cell_type": "code",
   "execution_count": null,
   "metadata": {},
   "outputs": [],
   "source": [
    "# [TODO]"
   ]
  },
  {
   "cell_type": "markdown",
   "metadata": {},
   "source": [
    "## INTEGRATE BELOW HERE!!! "
   ]
  },
  {
   "cell_type": "code",
   "execution_count": null,
   "metadata": {},
   "outputs": [],
   "source": [
    "### MINIMAL END TO END SKLEARN EXAMPLE \n",
    "\n",
    "\n",
    "import pandas as pd\n",
    "\n",
    "fname = 'experiments/expt1/data/imdb_decoded.csv'\n",
    "dat = pd.read_csv(fname)\n",
    "\n",
    "train, test = dat[dat.subset=='train'], dat[dat.subset=='test']\n",
    "\n",
    "x_train, y_train = list(train.text), list(train.label)\n",
    "x_test, y_test = list(test.text), list(test.label)\n",
    "\n",
    "\n",
    "from sklearn.naive_bayes import MultinomialNB\n",
    "from sklearn.feature_extraction.text import CountVectorizer\n",
    "\n",
    "# use 'text' versions of the inputs lol \n",
    "vct = CountVectorizer() # can plug in some hypers here \n",
    "dtm_train = vct.fit_transform([' '.join([str(x) for x in l]) for l in x_train])\n",
    "dtm_test = vct.transform([' '.join([str(x) for x in l]) for l in x_test])\n",
    "\n",
    "clf = MultinomialNB()   # can plug in some hypers here \n",
    "clf.fit(dtm_train, y_train)\n",
    "mnb_preds = clf.predict(dtm_test)\n",
    "\n",
    "\n",
    "from sklearn.metrics import precision_score, recall_score, f1_score\n",
    "\n",
    "# evaluate model performance on test set with these metrics\n",
    "metrics = [precision_score, recall_score, f1_score]\n",
    "\n",
    "for metric in metrics:\n",
    "  print(f'{metric.__name__}: {metric(y_test, mnb_preds)}')\n",
    "\n",
    "# precision_score: 0.8359976807752837\n",
    "# recall_score: 0.80744\n",
    "# f1_score: 0.8214707198958207\n",
    "\n",
    "from sklearn.metrics import confusion_matrix\n",
    "\n",
    "confusion_matrix(y_test, mnb_preds)\n"
   ]
  }
 ],
 "metadata": {
  "kernelspec": {
   "display_name": "Python [default]",
   "language": "python",
   "name": "python3"
  },
  "language_info": {
   "codemirror_mode": {
    "name": "ipython",
    "version": 3
   },
   "file_extension": ".py",
   "mimetype": "text/x-python",
   "name": "python",
   "nbconvert_exporter": "python",
   "pygments_lexer": "ipython3",
   "version": "3.6.4"
  }
 },
 "nbformat": 4,
 "nbformat_minor": 2
}
