{
 "cells": [
  {
   "cell_type": "markdown",
   "metadata": {},
   "source": [
    "## Sequence models for text classification\n",
    "<hr>\n",
    "\n",
    "1. load, split, and preprocess data \n",
    "2. define network structure, set hyper-params, compile  \n",
    "3. train classifier \n",
    "4. generate predictions on holdout set \n",
    "5. evaluate performance \n",
    "6. Appendix: transfer learning with pre-trained word embeddings\n",
    "  - 6.1 load pre-trained embeddings\n",
    "  - 6.2 tokenize and matricize text data (replace tokens with their embeddings)\n",
    "  - 6.3 adapt network structure for input matrices \n",
    "  - 6.4 train classifier, generate predictions, evaluate performance \n",
    "\n",
    "\n",
    "**`TODO`**:\n",
    "- clean up all cells\n",
    "- add notes where nec\n",
    "- reintroduce plotting part at end\n",
    "\n",
    "**`TODO`** -- insert discussion about:\n",
    "- difference btwn sequence models + dtm-based models\n",
    "- feature \"learning\" versus engineering\n",
    "- notable hypers that dont appear in other situations\n",
    "- role of embeddings + decisions to make w.r.t. them in seq mods\n",
    "- decide whether to have separate rnn/gru/lstm nb's or just mention each"
   ]
  },
  {
   "cell_type": "markdown",
   "metadata": {},
   "source": [
    "### 1. Load, split, and preprocess data\n",
    "<hr>"
   ]
  },
  {
   "cell_type": "markdown",
   "metadata": {},
   "source": [
    "Here we read in the movie reviews dataset `imdb_decoded.csv`, displaying the first few rows. Note that it has a field for train/test (`'subset'`), to make splitting the data easier. Note also that it has fields `'length'` and `'length_bin'`, which specify the length (in words) and length quartile the review belongs to (quartiles calculated across all 50k reviews). \n",
    "\n",
    "> Note: The data in `dat` is a re-formatted version of the IMDB movie reviews sentiment dataset, which can be accessed in integer-encoded format via `keras.datasets.load_imdb()`. If you don't have the file `imdb_decoded.csv`, just run the script `expt1_prep_imdb_data.py` to generate it (make sure `outfile` points to a valid filepath). \n",
    "\n",
    "<!-- \n",
    "  `dat` differs from the value of `keras.datasets.load_imdb()` only in format and encoding: the present version is a single rectangular data frame, the reviews have been re-encoded as English text, each review's length (in words) and train/test status is available, and the length quartile of each review is also available (in the `length_bin` field, which has values in `[0,1,2,3,4]`). \n",
    "-->"
   ]
  },
  {
   "cell_type": "code",
   "execution_count": 1,
   "metadata": {},
   "outputs": [
    {
     "data": {
      "text/html": [
       "<div>\n",
       "<style scoped>\n",
       "    .dataframe tbody tr th:only-of-type {\n",
       "        vertical-align: middle;\n",
       "    }\n",
       "\n",
       "    .dataframe tbody tr th {\n",
       "        vertical-align: top;\n",
       "    }\n",
       "\n",
       "    .dataframe thead th {\n",
       "        text-align: right;\n",
       "    }\n",
       "</style>\n",
       "<table border=\"1\" class=\"dataframe\">\n",
       "  <thead>\n",
       "    <tr style=\"text-align: right;\">\n",
       "      <th></th>\n",
       "      <th>subset</th>\n",
       "      <th>length</th>\n",
       "      <th>length_bin</th>\n",
       "      <th>label</th>\n",
       "      <th>text</th>\n",
       "    </tr>\n",
       "  </thead>\n",
       "  <tbody>\n",
       "    <tr>\n",
       "      <th>0</th>\n",
       "      <td>train</td>\n",
       "      <td>217</td>\n",
       "      <td>2</td>\n",
       "      <td>1</td>\n",
       "      <td>this film was just brilliant casting location ...</td>\n",
       "    </tr>\n",
       "    <tr>\n",
       "      <th>1</th>\n",
       "      <td>train</td>\n",
       "      <td>188</td>\n",
       "      <td>2</td>\n",
       "      <td>0</td>\n",
       "      <td>big hair big boobs bad music and a giant safet...</td>\n",
       "    </tr>\n",
       "    <tr>\n",
       "      <th>2</th>\n",
       "      <td>train</td>\n",
       "      <td>140</td>\n",
       "      <td>1</td>\n",
       "      <td>0</td>\n",
       "      <td>this has to be one of the worst films of the 1...</td>\n",
       "    </tr>\n",
       "    <tr>\n",
       "      <th>3</th>\n",
       "      <td>train</td>\n",
       "      <td>549</td>\n",
       "      <td>3</td>\n",
       "      <td>1</td>\n",
       "      <td>the scots excel at storytelling the traditiona...</td>\n",
       "    </tr>\n",
       "    <tr>\n",
       "      <th>4</th>\n",
       "      <td>train</td>\n",
       "      <td>146</td>\n",
       "      <td>1</td>\n",
       "      <td>0</td>\n",
       "      <td>worst mistake of my life br br i picked this m...</td>\n",
       "    </tr>\n",
       "  </tbody>\n",
       "</table>\n",
       "</div>"
      ],
      "text/plain": [
       "  subset  length  length_bin  label  \\\n",
       "0  train     217           2      1   \n",
       "1  train     188           2      0   \n",
       "2  train     140           1      0   \n",
       "3  train     549           3      1   \n",
       "4  train     146           1      0   \n",
       "\n",
       "                                                text  \n",
       "0  this film was just brilliant casting location ...  \n",
       "1  big hair big boobs bad music and a giant safet...  \n",
       "2  this has to be one of the worst films of the 1...  \n",
       "3  the scots excel at storytelling the traditiona...  \n",
       "4  worst mistake of my life br br i picked this m...  "
      ]
     },
     "execution_count": 1,
     "metadata": {},
     "output_type": "execute_result"
    }
   ],
   "source": [
    "import pandas as pd\n",
    "\n",
    "fname = '../experiments/expt1/data/imdb_decoded.csv'\n",
    "\n",
    "dat = pd.read_csv(fname)\n",
    "dat.head(5)"
   ]
  },
  {
   "cell_type": "markdown",
   "metadata": {},
   "source": [
    "There are 25k train reviews and 25k test reviews. Average review length is approximately the same across train and test subsets. "
   ]
  },
  {
   "cell_type": "code",
   "execution_count": 2,
   "metadata": {},
   "outputs": [
    {
     "name": "stdout",
     "output_type": "stream",
     "text": [
      "train size: 25000 (avg 238 words)\n",
      "test size: 25000 (avg 230 words)\n"
     ]
    }
   ],
   "source": [
    "train, test = dat[dat.subset=='train'], dat[dat.subset=='test']\n",
    "\n",
    "txt_train, y_train = list(train.text), list(train.label)\n",
    "txt_test, y_test = list(test.text), list(test.label)\n",
    "\n",
    "print(f'train size: {len(txt_train)} (avg {round(train.length.mean())} words)')\n",
    "print(f'test size: {len(txt_test)} (avg {round(test.length.mean())} words)')"
   ]
  },
  {
   "cell_type": "markdown",
   "metadata": {},
   "source": [
    "Here we tokenize the texts, restricting vocabulary to the words appearing in the train subset. To reduce the risk of learning useless patterns from rare words, vocabulary is also restricted to the `max_features` most frequent words (within the train set). \n",
    "\n",
    "Because we will be learning feature representations instead of engineering them, each review must have a uniform length. To achieve this, reviews longer than `maxlen` tokens are truncated to the first `maxlen` tokens, and reviews shorter than `maxlen` tokens are left-padded with the reserved dummy index `0` until they are `maxlen`-many tokens long. "
   ]
  },
  {
   "cell_type": "code",
   "execution_count": 3,
   "metadata": {},
   "outputs": [
    {
     "name": "stderr",
     "output_type": "stream",
     "text": [
      "Using TensorFlow backend.\n"
     ]
    }
   ],
   "source": [
    "from keras.preprocessing.text import Tokenizer\n",
    "from keras.preprocessing.sequence import pad_sequences\n",
    "\n",
    "\n",
    "# set text-related hyper params \n",
    "maxlen = 150\n",
    "max_features = 10000\n",
    "\n",
    "\n",
    "# instantiate Tokenizer class (`num_words` to restrict vocab size)\n",
    "# extract vocab and count words (makes several attrs available)\n",
    "tokenizer = Tokenizer(num_words=max_features)\n",
    "tokenizer.fit_on_texts(txt_train)\n",
    "\n",
    "# integer encode the docs\n",
    "x_train = tokenizer.texts_to_sequences(txt_train)\n",
    "x_test = tokenizer.texts_to_sequences(txt_test)\n",
    "\n",
    "# pad the sequences (default params `padding='pre', truncating='pre'`)\n",
    "x_train = pad_sequences(x_train, maxlen=maxlen)\n",
    "x_test = pad_sequences(x_test, maxlen=maxlen)"
   ]
  },
  {
   "cell_type": "markdown",
   "metadata": {},
   "source": [
    "> Note: It is sometimes also necessary to vectorize the labels in preparation for working with neural networks. But in the present case, we are doing binary classification so a single value (`0` or `1`) is fine. If we were predicting number of stars (from 1 to 5) instead of positive/negative, then we would one-hot encode each label so that e.g. `'2 stars'` would be encoded as `[0, 1, 0, 0, 0]`, `'4 stars'` would be encoded as `[0, 0, 0, 1, 0]`, and so on. "
   ]
  },
  {
   "cell_type": "markdown",
   "metadata": {},
   "source": [
    "### 2. Define network structure, set hyper-params, compile\n",
    "<hr>"
   ]
  },
  {
   "cell_type": "markdown",
   "metadata": {},
   "source": [
    "Here we define the network structure and *compile* the network. \n",
    "\n",
    "Note that the structure and definition of a network makes no reference to the data, other than that the input dimension of the input layer must be compatible with the shape of the data, and that the output layer must produce a value that makes sense in the context of the labels (in the network defined here, the output layer produces a single probability, which makes sense since we are doing binary classification). \n",
    "\n",
    "\n",
    "#### Network structure\n",
    "There are infinitely many structures we could choose for a neural net-based classifier. The best structure depends on a huge number of factors, some related to the data (e.g. binary/multi-class, text or numeric input, sequence or non-), some related to practical considerations (e.g. performance for real-time systems), and so on. \n",
    "\n",
    "Every neural network has an *input layer* and an *output layer*, but there can be any number of hidden layers between the input and output. Hidden layers can have varying numbers of nodes, the connections between the nodes can vary, and layers can be endowed with special properties like dropout. The interested reader is referred to [Chollet (2018)](TODO--link-to-DLwP) for more information. \n",
    "\n",
    "Here we will define a network with the following components: \n",
    "\n",
    "- **input layer** -- an \"embedding\" layer with input dimension `max_features` (one node for each vocabulary item) and output dimension `hidden_dim` (a tunable hyper-parameter)\n",
    "- **hidden layer 1** -- an LSTM layer with dropout and recurrent dropout (whose values can also be tuned); input and output dimensions are both `hidden_dim` \n",
    "- **output layer** -- a one-unit output layer with activation function `out_activation` (produces probabilities) \n",
    "\n",
    "#### Compiling a network\n",
    "Whereas the layers and nodes of a network are characterized mathematically, compiling a network is something that's only necessary because the network has been described using a computer. \n",
    "\n",
    "Compiling a network configures it for training, by supplying information about how performance should be measured (loss) and which algorithm should be used for optimizing the parameter weights (optimizer). "
   ]
  },
  {
   "cell_type": "code",
   "execution_count": 4,
   "metadata": {},
   "outputs": [],
   "source": [
    "from keras.models import Sequential\n",
    "from keras.layers import Dense, Embedding\n",
    "from keras.layers import LSTM\n",
    "\n",
    "\n",
    "# training-related hypers (how much data and for how long)\n",
    "epochs = 5\n",
    "batch_size = 256\n",
    "\n",
    "# training-related hypers (objective and how to maximize it)\n",
    "loss = 'binary_crossentropy'\n",
    "metrics = ['accuracy']\n",
    "optimizer = 'adam'\n",
    "\n",
    "# hypers for network layout + structure  \n",
    "hidden_dim = 100\n",
    "rec_dropout = 0.2\n",
    "lstm_dropout = 0.2\n",
    "out_activation = 'sigmoid'\n",
    "\n",
    "\n",
    "# define the network structure \n",
    "model = Sequential()\n",
    "# TODO: EITHER TOSS THIS LAYER (+ ADJUST AS NEEDED) OR EXPLAIN IT!!! \n",
    "model.add(Embedding(max_features, hidden_dim))\n",
    "model.add(LSTM(hidden_dim, dropout=lstm_dropout,recurrent_dropout=rec_dropout))\n",
    "model.add(Dense(1, activation=out_activation))\n",
    "\n",
    "# compile the network \n",
    "model.compile(loss=loss, optimizer=optimizer, metrics=metrics)"
   ]
  },
  {
   "cell_type": "markdown",
   "metadata": {},
   "source": [
    "Model objects of class `keras.models.Sequential` have a `.summary()` method, which you can call to see some basic info about the layers of your network, their shapes, and the number of trainable parameters they contribute to the overall model. "
   ]
  },
  {
   "cell_type": "code",
   "execution_count": 5,
   "metadata": {},
   "outputs": [
    {
     "name": "stdout",
     "output_type": "stream",
     "text": [
      "_________________________________________________________________\n",
      "Layer (type)                 Output Shape              Param #   \n",
      "=================================================================\n",
      "embedding_1 (Embedding)      (None, None, 100)         1000000   \n",
      "_________________________________________________________________\n",
      "lstm_1 (LSTM)                (None, 100)               80400     \n",
      "_________________________________________________________________\n",
      "dense_1 (Dense)              (None, 1)                 101       \n",
      "=================================================================\n",
      "Total params: 1,080,501\n",
      "Trainable params: 1,080,501\n",
      "Non-trainable params: 0\n",
      "_________________________________________________________________\n"
     ]
    }
   ],
   "source": [
    "model.summary()"
   ]
  },
  {
   "cell_type": "markdown",
   "metadata": {},
   "source": [
    "### 3. Train classifier \n",
    "<hr>"
   ]
  },
  {
   "cell_type": "markdown",
   "metadata": {},
   "source": [
    "Here we will train the classifier in mini-batches of `batch_size`, for `epochs`-many runs through the entire training dataset. Higher values for `epoch` are more likely to over-fit to the training data. \n",
    "\n",
    "Note also that when we specify `validation_split`, a portion of the data is not used for training, but rather to quantify the model's out-of-sample prediction accuracy. At each epoch, you will see the model's prediction accuracy on a (`valset_prop`\\*100)% subset of the samples in `x_train` -- none of which is seen during actual training. \n",
    "\n",
    "Setting aside a portion of the training data for evaluation *during training* is important because it gives you an idea of how well your model will generalize to cases outside of the data it was trained on. This principle isn't specific to neural nets. \n",
    "\n",
    "Crucially, the data set aside for validation during training is *not* the same as the test set (here, `x_test` and `y_test`). The test set is meant to quantify performance on a tuned/optimized model, and should be used sparingly (ideally, only once \"the official model\" has been selected). Instead, assess the impact of parameter tweaks by looking at how the validation accuracy changes over epochs. "
   ]
  },
  {
   "cell_type": "code",
   "execution_count": 6,
   "metadata": {},
   "outputs": [
    {
     "name": "stdout",
     "output_type": "stream",
     "text": [
      "Train on 15000 samples, validate on 10000 samples\n",
      "Epoch 1/5\n",
      "15000/15000 [==============================] - 67s 4ms/step - loss: 0.6050 - acc: 0.6889 - val_loss: 0.4170 - val_acc: 0.8182\n",
      "Epoch 2/5\n",
      "15000/15000 [==============================] - 64s 4ms/step - loss: 0.3696 - acc: 0.8507 - val_loss: 0.3581 - val_acc: 0.8444\n",
      "Epoch 3/5\n",
      "15000/15000 [==============================] - 64s 4ms/step - loss: 0.2782 - acc: 0.8927 - val_loss: 0.3835 - val_acc: 0.8300\n",
      "Epoch 4/5\n",
      "15000/15000 [==============================] - 61s 4ms/step - loss: 0.2360 - acc: 0.9135 - val_loss: 0.3942 - val_acc: 0.8338\n",
      "Epoch 5/5\n",
      "15000/15000 [==============================] - 63s 4ms/step - loss: 0.2027 - acc: 0.9264 - val_loss: 0.4100 - val_acc: 0.8394\n"
     ]
    }
   ],
   "source": [
    "# prop to set aside for accuracy calc after each epoch \n",
    "valset_prop = .40\n",
    "\n",
    "# train the model (returns a keras.callbacks.History object)\n",
    "history = model.fit(x_train, y_train,\n",
    "                    batch_size=batch_size,\n",
    "                    epochs=epochs, validation_split=valset_prop)"
   ]
  },
  {
   "cell_type": "markdown",
   "metadata": {},
   "source": [
    "We can plot the accuracy and loss curves, to see how validation performance compares to training performance across training epochs. "
   ]
  },
  {
   "cell_type": "code",
   "execution_count": 7,
   "metadata": {},
   "outputs": [
    {
     "data": {
      "image/png": "[encoded data removed]",
      "text/plain": [
       "<Figure size 432x288 with 2 Axes>"
      ]
     },
     "metadata": {},
     "output_type": "display_data"
    }
   ],
   "source": [
    "%matplotlib inline\n",
    "\n",
    "# consider using magic cmd `%matplotlib notebook` instead \n",
    "\n",
    "from plotting_util import plot_keras_loss_accuracy_curves\n",
    "\n",
    "### TODO: spruce up the plots (cant even see w dark jlab theme...)\n",
    "plot_keras_loss_accuracy_curves(history)"
   ]
  },
  {
   "cell_type": "markdown",
   "metadata": {},
   "source": [
    "### 4. Generate predictions on holdout set \n",
    "<hr>"
   ]
  },
  {
   "cell_type": "markdown",
   "metadata": {},
   "source": [
    "We can now generate model predictions on the test set using the model's `.predict()` method. \n",
    "\n",
    "Even though the model was trained for binary classification, `model.predict()` will return a probability in [0, 1] when given a piece of text as input. This should be interpreted as the probability that the sample belongs to the positive class (\"positive\" in the sense of \"corresponding to the value `1`\"). \n",
    "\n",
    "Here, we simply flatten the probabilities so that values .5 and above are assigned `True` (positive sentiment), and values below .5 are assigned `False` (negative sentiment). \n",
    "\n",
    "> Note: We could just as easily have used the method `model.predict_classes()`, which would give us the flattened (binary) predictions directly. But it can be informative to have the intermediate, probabilistic predictions if you want to introspect about why the model makes the predictions it does or how \"confident\" it is in a specific prediction. "
   ]
  },
  {
   "cell_type": "code",
   "execution_count": 8,
   "metadata": {},
   "outputs": [],
   "source": [
    "# model.predict() method returns probabilities \n",
    "# (use `model.predict_classes(x_test)` to get pre-flattened categorical preds)\n",
    "preds_test = model.predict(x_test)\n",
    "preds_test_bool = [bool(pred >= .5) for pred in preds_test]"
   ]
  },
  {
   "cell_type": "markdown",
   "metadata": {},
   "source": [
    "### 5. Evaluate model performance \n",
    "<hr>"
   ]
  },
  {
   "cell_type": "markdown",
   "metadata": {},
   "source": [
    "The accuracy of a machine learning model can be evaluated in many ways. Model evaluation is no different for neural networks than it is for any other class of model: we compare our model predictions on holdout data to the actual labels/ground truth on those same data points, summarizing the comparison with some metric(s) of our choosing. \n",
    "\n",
    "Keras model objects also have a `model.evaluate()` method, which will calculate a score by aggregating the value of some performance metric over mini-batches (see [this SO post for a quick summary](https://stackoverflow.com/a/44488571/6678726)). \n",
    "\n",
    "Here, we'll demonstrate use of the `model.evaluate()` method, and then move on to the more familiar and simple metrics of precision, recall, and F1-score. We'll also print a [confusion table](https://en.wikipedia.org/wiki/Confusion_matrix) to see how many data points in the test set fall into the categories of true positive, true negative, false positive, and false negative. "
   ]
  },
  {
   "cell_type": "code",
   "execution_count": 9,
   "metadata": {},
   "outputs": [
    {
     "name": "stdout",
     "output_type": "stream",
     "text": [
      "25000/25000 [==============================] - 22s 884us/step\n",
      "test \"score\": 0.4107\n",
      "test accuracy: 0.8328\n"
     ]
    }
   ],
   "source": [
    "# note that evaluation also happens in batches, so can take a min to run \n",
    "score, accuracy = model.evaluate(x_test, y_test, batch_size=batch_size)\n",
    "\n",
    "print(f'test \"score\": {round(score, 4)}')\n",
    "print(f'test accuracy: {round(accuracy, 4)}')"
   ]
  },
  {
   "cell_type": "code",
   "execution_count": 10,
   "metadata": {},
   "outputs": [
    {
     "name": "stdout",
     "output_type": "stream",
     "text": [
      "precision_score: 0.8341\n",
      "recall_score: 0.8308\n",
      "f1_score: 0.8324\n"
     ]
    }
   ],
   "source": [
    "from sklearn.metrics import precision_score, recall_score, f1_score\n",
    "\n",
    "# evaluate model performance on full test set with familiar metrics\n",
    "metrics = [precision_score, recall_score, f1_score]\n",
    "\n",
    "for metric in metrics:\n",
    "  print(f'{metric.__name__}: {round(metric(y_test, preds_test_bool), 4)}')"
   ]
  },
  {
   "cell_type": "code",
   "execution_count": 11,
   "metadata": {},
   "outputs": [
    {
     "name": "stdout",
     "output_type": "stream",
     "text": [
      "test set confusion matrix: \n",
      "[[10434  2066]\n",
      " [ 2115 10385]]\n",
      "count (% of total) for each label-pred combo:\n",
      "  >> true neg:  10434 (41.7%)\n",
      "  >> false pos: 2066 (8.3%)\n",
      "  >> false neg: 2115 (8.5%)\n",
      "  >> true pos:  10385 (41.5%)\n"
     ]
    }
   ],
   "source": [
    "from sklearn.metrics import confusion_matrix\n",
    "from plotting_util import human_readable_confusion_table\n",
    "\n",
    "conf_mat = confusion_matrix(y_test, preds_test_bool)\n",
    "print('test set confusion matrix: ', conf_mat, sep='\\n')\n",
    "\n",
    "human_readable_confusion_table(y_test, preds_test_bool)"
   ]
  },
  {
   "cell_type": "markdown",
   "metadata": {},
   "source": [
    "### 6. Appendix: Transfer learning with pre-trained word embeddings\n",
    "<hr>\n",
    "\n",
    "**`TODO`**: \n",
    "- finish this sec!\n",
    "- clean up chunks in this sec!\n",
    "- write narrative for this sec!"
   ]
  },
  {
   "cell_type": "markdown",
   "metadata": {},
   "source": [
    "#### 6.1 Load pre-trained embeddings"
   ]
  },
  {
   "cell_type": "code",
   "execution_count": 12,
   "metadata": {},
   "outputs": [
    {
     "name": "stdout",
     "output_type": "stream",
     "text": [
      "loaded 43981 300-d embeddings\n"
     ]
    }
   ],
   "source": [
    "from gensim.models import KeyedVectors\n",
    "\n",
    "# just using these embs for convenience \n",
    "embs_file = '../experiments/expt1/data/pruned.word2vec.txt'\n",
    "embs = KeyedVectors.load_word2vec_format(embs_file, binary=False)\n",
    "\n",
    "vec_size = embs.vector_size\n",
    "\n",
    "print(f'loaded {len(embs.vocab)} {vec_size}-d embeddings')"
   ]
  },
  {
   "cell_type": "code",
   "execution_count": 13,
   "metadata": {},
   "outputs": [
    {
     "name": "stdout",
     "output_type": "stream",
     "text": [
      "info about the embedding for 'dog':\n",
      "  >> type: <class 'numpy.ndarray'>\n",
      "  >> len: 300\n",
      "  >> head: [ 0.0171981  -0.00749344 -0.057982    0.054051   -0.0283358 ]\n"
     ]
    }
   ],
   "source": [
    "# example of a word2vec word embedding\n",
    "dog_vector = embs['dog']\n",
    "\n",
    "funcs = dict(type=type, len=len, head=lambda x: x[:5])\n",
    "\n",
    "print('info about the embedding for \\'dog\\':')\n",
    "for name, func in funcs.items():\n",
    "  print(f'  >> {name}: {func(dog_vector)}')"
   ]
  },
  {
   "cell_type": "code",
   "execution_count": 14,
   "metadata": {},
   "outputs": [
    {
     "name": "stdout",
     "output_type": "stream",
     "text": [
      "total vocab items: 88581\n",
      "vocab items for which we have a vector: 24094\n"
     ]
    }
   ],
   "source": [
    "# get a dict of embeddings, restricted to train vocab \n",
    "vocab_embs = {word: embs[word] \n",
    "              for word in embs.vocab.keys()\n",
    "              if  word in tokenizer.word_counts.keys()}\n",
    "\n",
    "print(f'total vocab items: {len(tokenizer.word_counts.keys())}')\n",
    "print(f'vocab items for which we have a vector: {len(vocab_embs.keys())}')"
   ]
  },
  {
   "cell_type": "markdown",
   "metadata": {},
   "source": [
    "#### 6.2 Prepare embedding matrix/matrices\n",
    "\n",
    "> for ref see the relevant DLwP sec + also [this keras walkthru](https://github.com/keras-team/keras/blob/master/examples/pretrained_word_embeddings.py) \n",
    "\n",
    "> see also [this fasttext example](https://github.com/keras-team/keras/blob/master/examples/imdb_fasttext.py) w uni/bigram embs (v nice ex)\n"
   ]
  },
  {
   "cell_type": "code",
   "execution_count": 30,
   "metadata": {},
   "outputs": [],
   "source": [
    "available_words = list(vocab_embs.keys())\n",
    "embs_matrix = np.zeros(shape=(max_features, vec_size))\n",
    "\n",
    "list(tokenizer.word_index.items())[:3]\n",
    "\n",
    "for word, idx in tokenizer.word_index.items():\n",
    "    if idx < max_features and word in available_words:\n",
    "        embs_matrix[idx] = vocab_embs[word]"
   ]
  },
  {
   "cell_type": "code",
   "execution_count": 40,
   "metadata": {},
   "outputs": [
    {
     "name": "stdout",
     "output_type": "stream",
     "text": [
      "dimensions of embedding matrix: (10000, 300)\n",
      "note that 0th element is empty (bc reserved index)\n",
      "\n",
      "1th word idx (and embedding vector) is 'the'\n",
      "first few elems of 1th embedding vector:\n",
      "  >> [ 0.0746853  0.0979106  0.0464506  0.0498661 -0.062845 ]\n"
     ]
    }
   ],
   "source": [
    "print(f'dimensions of embedding matrix: {embs_matrix.shape}')\n",
    "print(f'note that 0th element is empty (bc reserved index)\\n')\n",
    "print(f'1th word idx (and embedding vector) is \\'{tokenizer.index_word.get(1)}\\'')\n",
    "print(f'first few elems of 1th embedding vector:\\n  >> {embs_matrix[1,:5]}')"
   ]
  },
  {
   "cell_type": "markdown",
   "metadata": {},
   "source": [
    "#### 6.3 Adapt network structure \n",
    "> (for matrix inputs instead of vector inputs)\n",
    "\n",
    "1. figure out what input layer needs to be like\n",
    "2. make it like that (mite need to \"freeze\" weights at some pt)\n",
    "3. compile model + print summary"
   ]
  },
  {
   "cell_type": "code",
   "execution_count": 101,
   "metadata": {},
   "outputs": [
    {
     "ename": "ValueError",
     "evalue": "Expected array-like (array or non-string sequence), got <tf.Tensor 'dense_8_target:0' shape=(?, ?) dtype=float32>",
     "output_type": "error",
     "traceback": [
      "\u001b[0;31m---------------------------------------------------------------------------\u001b[0m",
      "\u001b[0;31mValueError\u001b[0m                                Traceback (most recent call last)",
      "\u001b[0;32m<ipython-input-101-ab8b24414022>\u001b[0m in \u001b[0;36m<module>\u001b[0;34m()\u001b[0m\n\u001b[1;32m     65\u001b[0m \u001b[0mmodel2\u001b[0m\u001b[0;34m.\u001b[0m\u001b[0madd\u001b[0m\u001b[0;34m(\u001b[0m\u001b[0mDense\u001b[0m\u001b[0;34m(\u001b[0m\u001b[0;36m1\u001b[0m\u001b[0;34m,\u001b[0m \u001b[0mactivation\u001b[0m\u001b[0;34m=\u001b[0m\u001b[0mout_activation\u001b[0m\u001b[0;34m)\u001b[0m\u001b[0;34m)\u001b[0m\u001b[0;34m\u001b[0m\u001b[0m\n\u001b[1;32m     66\u001b[0m \u001b[0;34m\u001b[0m\u001b[0m\n\u001b[0;32m---> 67\u001b[0;31m \u001b[0mmodel2\u001b[0m\u001b[0;34m.\u001b[0m\u001b[0mcompile\u001b[0m\u001b[0;34m(\u001b[0m\u001b[0mloss\u001b[0m\u001b[0;34m=\u001b[0m\u001b[0mloss\u001b[0m\u001b[0;34m,\u001b[0m \u001b[0moptimizer\u001b[0m\u001b[0;34m=\u001b[0m\u001b[0moptimizer\u001b[0m\u001b[0;34m,\u001b[0m \u001b[0mmetrics\u001b[0m\u001b[0;34m=\u001b[0m\u001b[0mmetrics\u001b[0m\u001b[0;34m)\u001b[0m\u001b[0;34m\u001b[0m\u001b[0m\n\u001b[0m\u001b[1;32m     68\u001b[0m \u001b[0;31m### ORIGINAL STRUCTURE FROM ABOVE (UNTOUCHED!!!)\u001b[0m\u001b[0;34m\u001b[0m\u001b[0;34m\u001b[0m\u001b[0m\n\u001b[1;32m     69\u001b[0m \u001b[0;31m# model = Sequential()\u001b[0m\u001b[0;34m\u001b[0m\u001b[0;34m\u001b[0m\u001b[0m\n",
      "\u001b[0;32m//anaconda/lib/python3.6/site-packages/keras/engine/training.py\u001b[0m in \u001b[0;36mcompile\u001b[0;34m(self, optimizer, loss, metrics, loss_weights, sample_weight_mode, weighted_metrics, target_tensors, **kwargs)\u001b[0m\n\u001b[1;32m    438\u001b[0m                 \u001b[0moutput_metrics\u001b[0m \u001b[0;34m=\u001b[0m \u001b[0mnested_metrics\u001b[0m\u001b[0;34m[\u001b[0m\u001b[0mi\u001b[0m\u001b[0;34m]\u001b[0m\u001b[0;34m\u001b[0m\u001b[0m\n\u001b[1;32m    439\u001b[0m                 \u001b[0moutput_weighted_metrics\u001b[0m \u001b[0;34m=\u001b[0m \u001b[0mnested_weighted_metrics\u001b[0m\u001b[0;34m[\u001b[0m\u001b[0mi\u001b[0m\u001b[0;34m]\u001b[0m\u001b[0;34m\u001b[0m\u001b[0m\n\u001b[0;32m--> 440\u001b[0;31m                 \u001b[0mhandle_metrics\u001b[0m\u001b[0;34m(\u001b[0m\u001b[0moutput_metrics\u001b[0m\u001b[0;34m)\u001b[0m\u001b[0;34m\u001b[0m\u001b[0m\n\u001b[0m\u001b[1;32m    441\u001b[0m                 \u001b[0mhandle_metrics\u001b[0m\u001b[0;34m(\u001b[0m\u001b[0moutput_weighted_metrics\u001b[0m\u001b[0;34m,\u001b[0m \u001b[0mweights\u001b[0m\u001b[0;34m=\u001b[0m\u001b[0mweights\u001b[0m\u001b[0;34m)\u001b[0m\u001b[0;34m\u001b[0m\u001b[0m\n\u001b[1;32m    442\u001b[0m \u001b[0;34m\u001b[0m\u001b[0m\n",
      "\u001b[0;32m//anaconda/lib/python3.6/site-packages/keras/engine/training.py\u001b[0m in \u001b[0;36mhandle_metrics\u001b[0;34m(metrics, weights)\u001b[0m\n\u001b[1;32m    407\u001b[0m                     metric_result = weighted_metric_fn(y_true, y_pred,\n\u001b[1;32m    408\u001b[0m                                                        \u001b[0mweights\u001b[0m\u001b[0;34m=\u001b[0m\u001b[0mweights\u001b[0m\u001b[0;34m,\u001b[0m\u001b[0;34m\u001b[0m\u001b[0m\n\u001b[0;32m--> 409\u001b[0;31m                                                        mask=masks[i])\n\u001b[0m\u001b[1;32m    410\u001b[0m \u001b[0;34m\u001b[0m\u001b[0m\n\u001b[1;32m    411\u001b[0m                 \u001b[0;31m# Append to self.metrics_names, self.metric_tensors,\u001b[0m\u001b[0;34m\u001b[0m\u001b[0;34m\u001b[0m\u001b[0m\n",
      "\u001b[0;32m//anaconda/lib/python3.6/site-packages/keras/engine/training_utils.py\u001b[0m in \u001b[0;36mweighted\u001b[0;34m(y_true, y_pred, weights, mask)\u001b[0m\n\u001b[1;32m    401\u001b[0m         \"\"\"\n\u001b[1;32m    402\u001b[0m         \u001b[0;31m# score_array has ndim >= 2\u001b[0m\u001b[0;34m\u001b[0m\u001b[0;34m\u001b[0m\u001b[0m\n\u001b[0;32m--> 403\u001b[0;31m         \u001b[0mscore_array\u001b[0m \u001b[0;34m=\u001b[0m \u001b[0mfn\u001b[0m\u001b[0;34m(\u001b[0m\u001b[0my_true\u001b[0m\u001b[0;34m,\u001b[0m \u001b[0my_pred\u001b[0m\u001b[0;34m)\u001b[0m\u001b[0;34m\u001b[0m\u001b[0m\n\u001b[0m\u001b[1;32m    404\u001b[0m         \u001b[0;32mif\u001b[0m \u001b[0mmask\u001b[0m \u001b[0;32mis\u001b[0m \u001b[0;32mnot\u001b[0m \u001b[0;32mNone\u001b[0m\u001b[0;34m:\u001b[0m\u001b[0;34m\u001b[0m\u001b[0m\n\u001b[1;32m    405\u001b[0m             \u001b[0;31m# Cast the mask to floatX to avoid float64 upcasting in Theano\u001b[0m\u001b[0;34m\u001b[0m\u001b[0;34m\u001b[0m\u001b[0m\n",
      "\u001b[0;32m//anaconda/lib/python3.6/site-packages/sklearn/metrics/classification.py\u001b[0m in \u001b[0;36mprecision_score\u001b[0;34m(y_true, y_pred, labels, pos_label, average, sample_weight)\u001b[0m\n\u001b[1;32m   1259\u001b[0m                                                  \u001b[0maverage\u001b[0m\u001b[0;34m=\u001b[0m\u001b[0maverage\u001b[0m\u001b[0;34m,\u001b[0m\u001b[0;34m\u001b[0m\u001b[0m\n\u001b[1;32m   1260\u001b[0m                                                  \u001b[0mwarn_for\u001b[0m\u001b[0;34m=\u001b[0m\u001b[0;34m(\u001b[0m\u001b[0;34m'precision'\u001b[0m\u001b[0;34m,\u001b[0m\u001b[0;34m)\u001b[0m\u001b[0;34m,\u001b[0m\u001b[0;34m\u001b[0m\u001b[0m\n\u001b[0;32m-> 1261\u001b[0;31m                                                  sample_weight=sample_weight)\n\u001b[0m\u001b[1;32m   1262\u001b[0m     \u001b[0;32mreturn\u001b[0m \u001b[0mp\u001b[0m\u001b[0;34m\u001b[0m\u001b[0m\n\u001b[1;32m   1263\u001b[0m \u001b[0;34m\u001b[0m\u001b[0m\n",
      "\u001b[0;32m//anaconda/lib/python3.6/site-packages/sklearn/metrics/classification.py\u001b[0m in \u001b[0;36mprecision_recall_fscore_support\u001b[0;34m(y_true, y_pred, beta, labels, pos_label, average, warn_for, sample_weight)\u001b[0m\n\u001b[1;32m   1023\u001b[0m         \u001b[0;32mraise\u001b[0m \u001b[0mValueError\u001b[0m\u001b[0;34m(\u001b[0m\u001b[0;34m\"beta should be >0 in the F-beta score\"\u001b[0m\u001b[0;34m)\u001b[0m\u001b[0;34m\u001b[0m\u001b[0m\n\u001b[1;32m   1024\u001b[0m \u001b[0;34m\u001b[0m\u001b[0m\n\u001b[0;32m-> 1025\u001b[0;31m     \u001b[0my_type\u001b[0m\u001b[0;34m,\u001b[0m \u001b[0my_true\u001b[0m\u001b[0;34m,\u001b[0m \u001b[0my_pred\u001b[0m \u001b[0;34m=\u001b[0m \u001b[0m_check_targets\u001b[0m\u001b[0;34m(\u001b[0m\u001b[0my_true\u001b[0m\u001b[0;34m,\u001b[0m \u001b[0my_pred\u001b[0m\u001b[0;34m)\u001b[0m\u001b[0;34m\u001b[0m\u001b[0m\n\u001b[0m\u001b[1;32m   1026\u001b[0m     \u001b[0mpresent_labels\u001b[0m \u001b[0;34m=\u001b[0m \u001b[0munique_labels\u001b[0m\u001b[0;34m(\u001b[0m\u001b[0my_true\u001b[0m\u001b[0;34m,\u001b[0m \u001b[0my_pred\u001b[0m\u001b[0;34m)\u001b[0m\u001b[0;34m\u001b[0m\u001b[0m\n\u001b[1;32m   1027\u001b[0m \u001b[0;34m\u001b[0m\u001b[0m\n",
      "\u001b[0;32m//anaconda/lib/python3.6/site-packages/sklearn/metrics/classification.py\u001b[0m in \u001b[0;36m_check_targets\u001b[0;34m(y_true, y_pred)\u001b[0m\n\u001b[1;32m     70\u001b[0m     \"\"\"\n\u001b[1;32m     71\u001b[0m     \u001b[0mcheck_consistent_length\u001b[0m\u001b[0;34m(\u001b[0m\u001b[0my_true\u001b[0m\u001b[0;34m,\u001b[0m \u001b[0my_pred\u001b[0m\u001b[0;34m)\u001b[0m\u001b[0;34m\u001b[0m\u001b[0m\n\u001b[0;32m---> 72\u001b[0;31m     \u001b[0mtype_true\u001b[0m \u001b[0;34m=\u001b[0m \u001b[0mtype_of_target\u001b[0m\u001b[0;34m(\u001b[0m\u001b[0my_true\u001b[0m\u001b[0;34m)\u001b[0m\u001b[0;34m\u001b[0m\u001b[0m\n\u001b[0m\u001b[1;32m     73\u001b[0m     \u001b[0mtype_pred\u001b[0m \u001b[0;34m=\u001b[0m \u001b[0mtype_of_target\u001b[0m\u001b[0;34m(\u001b[0m\u001b[0my_pred\u001b[0m\u001b[0;34m)\u001b[0m\u001b[0;34m\u001b[0m\u001b[0m\n\u001b[1;32m     74\u001b[0m \u001b[0;34m\u001b[0m\u001b[0m\n",
      "\u001b[0;32m//anaconda/lib/python3.6/site-packages/sklearn/utils/multiclass.py\u001b[0m in \u001b[0;36mtype_of_target\u001b[0;34m(y)\u001b[0m\n\u001b[1;32m    242\u001b[0m     \u001b[0;32mif\u001b[0m \u001b[0;32mnot\u001b[0m \u001b[0mvalid\u001b[0m\u001b[0;34m:\u001b[0m\u001b[0;34m\u001b[0m\u001b[0m\n\u001b[1;32m    243\u001b[0m         raise ValueError('Expected array-like (array or non-string sequence), '\n\u001b[0;32m--> 244\u001b[0;31m                          'got %r' % y)\n\u001b[0m\u001b[1;32m    245\u001b[0m \u001b[0;34m\u001b[0m\u001b[0m\n\u001b[1;32m    246\u001b[0m     \u001b[0msparseseries\u001b[0m \u001b[0;34m=\u001b[0m \u001b[0;34m(\u001b[0m\u001b[0my\u001b[0m\u001b[0;34m.\u001b[0m\u001b[0m__class__\u001b[0m\u001b[0;34m.\u001b[0m\u001b[0m__name__\u001b[0m \u001b[0;34m==\u001b[0m \u001b[0;34m'SparseSeries'\u001b[0m\u001b[0;34m)\u001b[0m\u001b[0;34m\u001b[0m\u001b[0m\n",
      "\u001b[0;31mValueError\u001b[0m: Expected array-like (array or non-string sequence), got <tf.Tensor 'dense_8_target:0' shape=(?, ?) dtype=float32>"
     ]
    }
   ],
   "source": [
    "from keras.layers import Flatten\n",
    "model2 = Sequential()\n",
    "\n",
    "### TODO: GET THIS WORKING!!! \n",
    "### CURRENTLY THROWS THE FOLLOWING VALUE ERROR: \n",
    "###     ValueError: Input 0 is incompatible with layer lstm_2: \n",
    "###                 expected ndim=3, found ndim=2\n",
    "# dont work, </3: input_shape=(maxlen, max_features),\n",
    "# \n",
    "### list of ones that dont work:\n",
    "# \n",
    "# ValueError: Input 0 is incompatible with layer lstm_16: \n",
    "# expected ndim=3, found ndim=2\n",
    "### model2.add(Embedding(max_features, vec_size, input_length=maxlen))\n",
    "# \n",
    "# \n",
    "# ValueError: The shape of the input to \"Flatten\" is not fully defined \n",
    "# (got (None, 300). Make sure to pass a complete \"input_shape\" or \n",
    "# \"batch_input_shape\" argument to the first layer in your model.\n",
    "### model2.add(Embedding(max_features, vec_size))\n",
    "# \n",
    "# \n",
    "# <ERROR MSG>\n",
    "### model2.add(Embedding(max_features, vec_size))\n",
    "# \n",
    "# \n",
    "# <ERROR MSG>\n",
    "### model2.add(Embedding(max_features, vec_size))\n",
    "# \n",
    "# \n",
    "# <ERROR MSG>\n",
    "### model2.add(Embedding(max_features, vec_size))\n",
    "# \n",
    "# \n",
    "# ValueError: Argument must be a dense tensor: \n",
    "# ((10000, 300), 100) - got shape [2], but wanted [2, 2].\n",
    "# model2.add(Embedding((max_features, vec_size), hidden_dim, input_length=vec_size))\n",
    "# \n",
    "# \n",
    "# <ERROR MSG>\n",
    "# model2.add(Embedding(\n",
    "#     input_dim=max_features, \n",
    "#     output_dim=vec_size, \n",
    "#     input_length=maxlen))\n",
    "# model2.layers[0].set_weights([embs_matrix])\n",
    "# model2.layers[0].trainable = False\n",
    "\n",
    "\n",
    "\n",
    "# model2.add(Flatten())\n",
    "# model2.add(LSTM(hidden_dim, \n",
    "#                 # return_sequences=True,\n",
    "#                 dropout=lstm_dropout,\n",
    "#                 recurrent_dropout=rec_dropout))\n",
    "# model2.add(Dense(1, activation=out_activation))\n",
    "\n",
    "\n",
    "# # compile the network \n",
    "# model2.compile(loss=loss, optimizer=optimizer, metrics=metrics)\n",
    "\n",
    "\n",
    "\n",
    "### ORIGINAL STRUCTURE FROM ABOVE (UNTOUCHED!!!)\n",
    "# model = Sequential()\n",
    "# model.add(Embedding(max_features, hidden_dim))\n",
    "# model.add(LSTM(hidden_dim, dropout=lstm_dropout,recurrent_dropout=rec_dropout))\n",
    "# model.add(Dense(1, activation=out_activation))\n",
    "\n",
    "### still not work ugh \n",
    "# model2.add(Embedding(\n",
    "#     input_dim=max_features, \n",
    "#     output_dim=vec_size, \n",
    "#     input_length=maxlen, \n",
    "#     weights=[embs_matrix], \n",
    "#     trainable=False))\n"
   ]
  },
  {
   "cell_type": "code",
   "execution_count": 95,
   "metadata": {},
   "outputs": [
    {
     "data": {
      "text/plain": [
       "(10000, 300)"
      ]
     },
     "execution_count": 95,
     "metadata": {},
     "output_type": "execute_result"
    }
   ],
   "source": [
    "# input_dim=maxlen, \n",
    "# output_dim=hidden_dim, \n",
    "# input_length=vec_size\n",
    "#maxlen\n",
    "#hidden_dim\n",
    "\n",
    "#(input_dim=max_features, output_dim=vec_size, unput_length=maxlen)\n",
    "#\n",
    "embs_matrix.shape"
   ]
  },
  {
   "cell_type": "markdown",
   "metadata": {},
   "source": [
    "#### 6.4 Train/predict/evaluate \n",
    "> (train classifier, generate predictions, evaluate performance)\n",
    "\n",
    "1. train model\n",
    "2. plot curves\n",
    "3. generate preds\n",
    "4. calculate .evaluate() metrics + std metrics + conf mat"
   ]
  },
  {
   "cell_type": "code",
   "execution_count": null,
   "metadata": {},
   "outputs": [],
   "source": []
  },
  {
   "cell_type": "markdown",
   "metadata": {},
   "source": [
    "<hr><hr><br><br><br>"
   ]
  },
  {
   "cell_type": "markdown",
   "metadata": {},
   "source": [
    "<br><br><br>\n",
    "### SCRAPS AND ACTIVE `TODO` ITEMS"
   ]
  },
  {
   "cell_type": "code",
   "execution_count": null,
   "metadata": {},
   "outputs": [],
   "source": [
    "### TODO: FIND PAD CHAR FOR NARRATIVE TXT IN SEC 1!!! \n",
    "# (look for a short review + find its prepped version)\n",
    "# [r for r in x_train if len(r.split()) < 150][:5]\n",
    "# dat.length\n",
    "# dat.text[11]\n",
    "# [r for r in x_train if len(r.split()) < 150][:5]\n",
    "# dat.length\n",
    "# dat.text[11]\n",
    "# dat\n",
    "# \n",
    "\n",
    "### TODO: EFFICIENT SHOW REVIEW(S) BASED ON SUBSTRING \n",
    "# ss = 'when i rented this'\n",
    "# [r for r in x_test if ss in x_test]\n",
    "# x_train[0]\n",
    "# \n",
    "\n",
    "### TODO: QUICK WAY TO LOOK AT THE TEXT OF A BAD PRED \n",
    "# # currently cant do this bc just have one var from `dat` to seq's \n",
    "# [*zip(preds_test_bool[:10], y_test[:10])]\n",
    "# x_test[3]\n",
    "# "
   ]
  },
  {
   "cell_type": "markdown",
   "metadata": {},
   "source": []
  },
  {
   "cell_type": "code",
   "execution_count": null,
   "metadata": {},
   "outputs": [],
   "source": []
  },
  {
   "cell_type": "markdown",
   "metadata": {},
   "source": [
    "### [OLD, NOT USED]\n",
    "<hr>\n",
    "\n",
    "#### 6.2.2 Token seq ==> embedding matrix (slow + prob not worth it...)\n",
    "\n",
    "<br>\n",
    "encode each doc as a matrix of embeddings:\n",
    "1. generate (maxlen, vec_len) matrix for each text \n",
    "2. that's the input data -- 3d array w shape: (len(x_train), maxlen, vec_len)\n"
   ]
  },
  {
   "cell_type": "code",
   "execution_count": 25,
   "metadata": {},
   "outputs": [],
   "source": [
    "### NOTE: BELOW IS JUST WHAT'S HAPPENING BEHIND THE SCENES W KERAS EMB LAYER\n",
    "\n",
    "## Define funcs to construct 3-d embeddings array from tokenized docs \n",
    "## TODO: DETERMINE IF THIS WILL MAKE IT INTO FINAL, THEN DEAL WITH IT \n",
    "## WARNING: VERY SLOW IMPLEMENTATION! LOOK ELSEWHERE \n",
    "import numpy as np\n",
    "\n",
    "from functools import partial\n",
    "\n",
    "\n",
    "def token_idxs_to_embedding_matrix(tokens, index_word, embs, vec_size):\n",
    "    '''transform a sequence of token indices into an embedding matrix \n",
    "    NOTE: `embs` must be dict, not instance of gensim.models.KeyedVectors!!\n",
    "    \n",
    "    tokens_ = [1,2,3]\n",
    "    index_word_ = {1: 'the', 2: 'dog', 3: 'barked'}\n",
    "    embs_ = {'the': [.1,.2,.3], 'dog': [.4,.5,.6], 'barked': [.7,.8,.9]}\n",
    "    token_idxs_to_embedding_matrix(tokens_, index_word_, embs_, 3)\n",
    "    '''\n",
    "    out = np.zeros(shape=(len(tokens), vec_size)) # or use `maxlen`\n",
    "    \n",
    "    available_vecs = list(embs.keys())\n",
    "    \n",
    "    for idx in range(len(tokens)):\n",
    "        word = index_word.get(tokens[idx])\n",
    "        if word in available_vecs:\n",
    "            out[idx, ] = embs[word]\n",
    "    \n",
    "    return out\n",
    "\n",
    "\n",
    "def make_embeddings_array3d(token_seqs, index_word, embs, maxlen, vec_size):\n",
    "    '''transform a seq of token seqs into a seq of embedding matrices \n",
    "    \n",
    "    token_seqs = [[1,2,3,1], [3,1,2,1], [2,1,3,1]]\n",
    "    index_word_ = {1: 'the', 2: 'dog', 3: 'barked'}\n",
    "    embs_ = {'the': [.1,.2,.3], 'dog': [.4,.5,.6], 'barked': [.7,.8,.9]}\n",
    "    make_embeddings_array3d(token_seqs, index_word_, embs_, 4, 3)\n",
    "    '''\n",
    "    make_embedding_matrix = partial(\n",
    "        token_idxs_to_embedding_matrix, \n",
    "        index_word=index_word, embs=embs, vec_size=vec_size)\n",
    "    \n",
    "    out = np.zeros(shape=(len(token_seqs), maxlen, vec_size))\n",
    "    \n",
    "    for idx in range(len(token_seqs)):\n",
    "        out[idx] = make_embedding_matrix(token_seqs[idx])\n",
    "    \n",
    "    return out"
   ]
  },
  {
   "cell_type": "code",
   "execution_count": null,
   "metadata": {},
   "outputs": [],
   "source": [
    "# bind args that won't vary to the make_embeddings_array3d() func \n",
    "seqs_to_embarray = partial(\n",
    "    make_embeddings_array3d, \n",
    "    index_word=tokenizer.index_word, embs=vocab_embs, \n",
    "    maxlen=maxlen, vec_size=vec_size)\n",
    "\n",
    "# TOO SLOW!!! NOT USABLE AT EVEN THIS SCALE </3\n",
    "embmats_train = seqs_to_embarray(x_train)\n",
    "embmats_test = seqs_to_embarray(x_test)"
   ]
  }
 ],
 "metadata": {
  "kernelspec": {
   "display_name": "Python [default]",
   "language": "python",
   "name": "python3"
  },
  "language_info": {
   "codemirror_mode": {
    "name": "ipython",
    "version": 3
   },
   "file_extension": ".py",
   "mimetype": "text/x-python",
   "name": "python",
   "nbconvert_exporter": "python",
   "pygments_lexer": "ipython3",
   "version": "3.6.4"
  }
 },
 "nbformat": 4,
 "nbformat_minor": 2
}
